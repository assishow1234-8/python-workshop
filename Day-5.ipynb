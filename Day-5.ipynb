{
 "cells": [
  {
   "cell_type": "markdown",
   "metadata": {},
   "source": [
    "### Todays Concepts:\n",
    "- OOPs\n",
    "- Regular Expressions\n",
    "- Files\n",
    "- Matplotlib"
   ]
  },
  {
   "cell_type": "code",
   "execution_count": null,
   "metadata": {},
   "outputs": [],
   "source": [
    "# object oriented programming\n",
    "# object: instance of class\n",
    "# Its having properties(var) and actions(methods)\n",
    "# class:\n",
    "# collection of variables and methods\n",
    "# syntax:\n",
    "# class ClassName:\n",
    "    # variables\n",
    "    # methods\n",
    "    "
   ]
  },
  {
   "cell_type": "code",
   "execution_count": 1,
   "metadata": {},
   "outputs": [],
   "source": [
    "class Student:\n",
    "    pass"
   ]
  },
  {
   "cell_type": "code",
   "execution_count": null,
   "metadata": {},
   "outputs": [],
   "source": [
    "# to create a object:\n",
    "# syntax:\n",
    "# var = classname()\n",
    "s=Student()\n"
   ]
  },
  {
   "cell_type": "code",
   "execution_count": 3,
   "metadata": {},
   "outputs": [
    {
     "data": {
      "text/plain": [
       "10"
      ]
     },
     "execution_count": 3,
     "metadata": {},
     "output_type": "execute_result"
    }
   ],
   "source": [
    "class Student:\n",
    "    x=10\n",
    "    y=20\n",
    "Student().x"
   ]
  },
  {
   "cell_type": "code",
   "execution_count": 4,
   "metadata": {},
   "outputs": [
    {
     "data": {
      "text/plain": [
       "20"
      ]
     },
     "execution_count": 4,
     "metadata": {},
     "output_type": "execute_result"
    }
   ],
   "source": [
    "Student().y"
   ]
  },
  {
   "cell_type": "code",
   "execution_count": 5,
   "metadata": {},
   "outputs": [
    {
     "data": {
      "text/plain": [
       "10"
      ]
     },
     "execution_count": 5,
     "metadata": {},
     "output_type": "execute_result"
    }
   ],
   "source": [
    "s=Student()\n",
    "s.x"
   ]
  },
  {
   "cell_type": "code",
   "execution_count": 7,
   "metadata": {},
   "outputs": [
    {
     "name": "stdout",
     "output_type": "stream",
     "text": [
      "enter name of the student:asmitha\n",
      "hello asmitha\n"
     ]
    }
   ],
   "source": [
    "class Student:\n",
    "    x=10\n",
    "    y=20\n",
    "    def Display(self):\n",
    "        name=input('enter name of the student:')\n",
    "        print('hello',name)\n",
    "Student().x\n",
    "Student().y\n",
    "s=Student()\n",
    "s.x \n",
    "s.Display()"
   ]
  },
  {
   "cell_type": "code",
   "execution_count": 11,
   "metadata": {},
   "outputs": [
    {
     "name": "stdout",
     "output_type": "stream",
     "text": [
      "enter name of the student:assi\n",
      "hello assi\n"
     ]
    }
   ],
   "source": [
    "class Student:\n",
    "    x=10\n",
    "    y=20\n",
    "    def Display(self):\n",
    "        z=30\n",
    "        name=input('enter name of the student:')\n",
    "        print('hello',name)\n",
    "Student().x\n",
    "Student().y\n",
    "s=Student()\n",
    "s.x \n",
    "s.Display()"
   ]
  },
  {
   "cell_type": "code",
   "execution_count": null,
   "metadata": {},
   "outputs": [],
   "source": [
    "# Constructor:\n",
    "# syntax:\n",
    "#__init__(self):\n",
    "    # Statements"
   ]
  },
  {
   "cell_type": "code",
   "execution_count": 15,
   "metadata": {},
   "outputs": [
    {
     "name": "stdout",
     "output_type": "stream",
     "text": [
      "This is constructer\n",
      "hello 2 year having 3 sections\n"
     ]
    }
   ],
   "source": [
    "class Cse:\n",
    "    sections = 3\n",
    "    year = 2\n",
    "    def __init__(self):\n",
    "        print('This is constructer')\n",
    "    def Details(self):\n",
    "        print('hello {} year having {} sections'.format(Cse.year,Cse.sections))\n",
    "c=Cse()\n",
    "c.Details()"
   ]
  },
  {
   "cell_type": "code",
   "execution_count": 21,
   "metadata": {},
   "outputs": [
    {
     "name": "stdout",
     "output_type": "stream",
     "text": [
      "This is constructer\n"
     ]
    }
   ],
   "source": [
    "class Cse:\n",
    "    def __init__(self,sections,year):\n",
    "        print('This is constructer')\n",
    "        self.sections = sections\n",
    "        self.year = year\n",
    "    def Details(self):\n",
    "        print('hello {} year having {} sections'.format(Cse.year,Cse.sections))\n",
    "c=Cse(3,2)\n"
   ]
  },
  {
   "cell_type": "code",
   "execution_count": 23,
   "metadata": {},
   "outputs": [
    {
     "name": "stdout",
     "output_type": "stream",
     "text": [
      "This is constructer\n",
      "hello 2 year having 3 sections\n"
     ]
    }
   ],
   "source": [
    "class Cse:\n",
    "    def __init__(self,sections,year):\n",
    "        print('This is constructer')\n",
    "        self.sections = sections\n",
    "        self.year = year\n",
    "    def Details(self):\n",
    "        print('hello {} year having {} sections'.format(self.year,self.sections))\n",
    "c=Cse(3,2)\n",
    "c.Details()\n"
   ]
  },
  {
   "cell_type": "code",
   "execution_count": null,
   "metadata": {},
   "outputs": [],
   "source": [
    "### Inheritance:\n",
    "# getting the properties from parent class to child class\n",
    "# Has - a relation\n"
   ]
  },
  {
   "cell_type": "code",
   "execution_count": 26,
   "metadata": {},
   "outputs": [
    {
     "name": "stdout",
     "output_type": "stream",
     "text": [
      "10\n",
      "20\n",
      "30\n",
      "Parent method..\n",
      "None\n"
     ]
    }
   ],
   "source": [
    "class parent:\n",
    "    x=10\n",
    "    y=20\n",
    "    def M1(self):\n",
    "        print('Parent method..')\n",
    "class Child:\n",
    "    z=30\n",
    "    def __init__(self):\n",
    "        self.parent = parent()\n",
    "    def M2(self):\n",
    "        print(self.parent.x)\n",
    "        print(self.parent.y)\n",
    "        print(Child().z)\n",
    "        print(self.parent.M1())\n",
    "c=Child()\n",
    "c.M2()"
   ]
  },
  {
   "cell_type": "code",
   "execution_count": 36,
   "metadata": {},
   "outputs": [
    {
     "name": "stdout",
     "output_type": "stream",
     "text": [
      "class A method\n",
      "class B method..\n"
     ]
    }
   ],
   "source": [
    "# Is - A Relation:\n",
    "class A:\n",
    "    x = 20\n",
    "    y = 30\n",
    "    def m1(self):\n",
    "        print('class A method')\n",
    "class B(A):\n",
    "    z = 40\n",
    "    def m2(self):\n",
    "        print('class B method..')\n",
    "obj =B()\n",
    "obj.m1()\n",
    "obj.m2()\n",
    "    "
   ]
  },
  {
   "cell_type": "code",
   "execution_count": 43,
   "metadata": {},
   "outputs": [
    {
     "name": "stdout",
     "output_type": "stream",
     "text": [
      "Hello assi welcome to Infosys\n",
      "Hello sai welcome to TCS\n",
      "Hello tri welcome to Wipro\n"
     ]
    }
   ],
   "source": [
    "# Multi Level Inheritance\n",
    "\n",
    "class parent:\n",
    "    name = 'assi'\n",
    "    company = 'Infosys'\n",
    "    def M1(self):\n",
    "        print('Hello',parent.name,'welcome to',parent.company)\n",
    "class Child(parent):\n",
    "    name1 = 'sai'\n",
    "    company = 'TCS'\n",
    "    def __init__(self):\n",
    "        self.parent = parent()\n",
    "    def M2(self):\n",
    "        print('Hello',Child.name1,'welcome to',Child.company)\n",
    "class SubChild(Child):\n",
    "    name2 = 'tri'\n",
    "    company = 'Wipro'\n",
    "    def mm(self):\n",
    "        print('Hello',SubChild.name2,'welcome to',SubChild.company)\n",
    "s = SubChild()\n",
    "s.M1()\n",
    "s.M2()\n",
    "s.mm()\n"
   ]
  },
  {
   "cell_type": "markdown",
   "metadata": {},
   "source": [
    "# Regular Expressions\n",
    "+ Regular Expresssions are using patterns\n",
    "+ by using regular expressions in python we can use one module i.e import **re**\n",
    "+ Regular Expression Syntax ------>modulename.methodname(pattern,values or variablenames)\n",
    "\n",
    " # Methods\n",
    " + search\n",
    " + match\n",
    " + findall\n",
    " \n",
    " # Patterns\n",
    " + ^ (Matches the beginning of a line)\n",
    " + $ (Matches the end of the line)\n",
    " + . (Matches any character)\n",
    " + * (Repeats a character zero or more times)\n",
    " + + (Repeats a character one or more times)\n",
    " + \\d (matches Digits)\n",
    " + \\D (except digits,it matches all:alphabets,special symbols etc....)\n",
    " + \\s (Matches whitespace)\n",
    " + \\S (Matches any non-whitespace character\n",
    " + \\w (Returns except special characters)\n",
    " + \\W (Returns special characters) \n",
    " + [a-z,A-Z] (The set of characters can include a range)\n",
    " + [0-9] (The set of characters can include a range)\n",
    " + [aeiou] (Matches a single character in the listed set)\n",
    " + ( (Indicates where string extraction is to start)\n",
    " + ) (Indicates where string extraction is to end)\n",
    " + +? (Repeats a character one or more times(non-greedy))\n",
    " + *? (Repeats a character zero or more times(non-greedy)\n",
    " + [^XYZ] (matches a single character not in the listed set)"
   ]
  },
  {
   "cell_type": "code",
   "execution_count": 3,
   "metadata": {},
   "outputs": [],
   "source": [
    "import re"
   ]
  },
  {
   "cell_type": "code",
   "execution_count": 4,
   "metadata": {},
   "outputs": [
    {
     "data": {
      "text/plain": [
       "<re.Match object; span=(0, 1), match='p'>"
      ]
     },
     "execution_count": 4,
     "metadata": {},
     "output_type": "execute_result"
    }
   ],
   "source": [
    "re.search('^p','python workshop')"
   ]
  },
  {
   "cell_type": "code",
   "execution_count": 5,
   "metadata": {},
   "outputs": [
    {
     "data": {
      "text/plain": [
       "<re.Match object; span=(13, 14), match='p'>"
      ]
     },
     "execution_count": 5,
     "metadata": {},
     "output_type": "execute_result"
    }
   ],
   "source": [
    "re.search('p$','pythonworkshop')"
   ]
  },
  {
   "cell_type": "code",
   "execution_count": 6,
   "metadata": {},
   "outputs": [
    {
     "data": {
      "text/plain": [
       "<re.Match object; span=(0, 1), match='p'>"
      ]
     },
     "execution_count": 6,
     "metadata": {},
     "output_type": "execute_result"
    }
   ],
   "source": [
    "re.search('.','pythonworkshop')"
   ]
  },
  {
   "cell_type": "code",
   "execution_count": 7,
   "metadata": {},
   "outputs": [
    {
     "data": {
      "text/plain": [
       "<re.Match object; span=(0, 2), match='py'>"
      ]
     },
     "execution_count": 7,
     "metadata": {},
     "output_type": "execute_result"
    }
   ],
   "source": [
    "re.search('..','pythonworkshop')"
   ]
  },
  {
   "cell_type": "code",
   "execution_count": 8,
   "metadata": {},
   "outputs": [
    {
     "data": {
      "text/plain": [
       "<re.Match object; span=(0, 14), match='pythonworkshop'>"
      ]
     },
     "execution_count": 8,
     "metadata": {},
     "output_type": "execute_result"
    }
   ],
   "source": [
    "re.search('..............','pythonworkshop')"
   ]
  },
  {
   "cell_type": "code",
   "execution_count": 9,
   "metadata": {},
   "outputs": [
    {
     "data": {
      "text/plain": [
       "<re.Match object; span=(0, 1), match='2'>"
      ]
     },
     "execution_count": 9,
     "metadata": {},
     "output_type": "execute_result"
    }
   ],
   "source": [
    "re.search('\\d','23-1-2021python')"
   ]
  },
  {
   "cell_type": "code",
   "execution_count": 10,
   "metadata": {},
   "outputs": [
    {
     "data": {
      "text/plain": [
       "['2', '3', '0', '1', '2', '0', '2', '1']"
      ]
     },
     "execution_count": 10,
     "metadata": {},
     "output_type": "execute_result"
    }
   ],
   "source": [
    "re.findall('\\d','23-01-2021python')"
   ]
  },
  {
   "cell_type": "code",
   "execution_count": 11,
   "metadata": {},
   "outputs": [
    {
     "data": {
      "text/plain": [
       "['-', '-', 'p', 'y', 't', 'h', 'o', 'n']"
      ]
     },
     "execution_count": 11,
     "metadata": {},
     "output_type": "execute_result"
    }
   ],
   "source": [
    "re.findall('\\D','23-01-2021python')"
   ]
  },
  {
   "cell_type": "code",
   "execution_count": 13,
   "metadata": {},
   "outputs": [
    {
     "data": {
      "text/plain": [
       "[' ', ' ']"
      ]
     },
     "execution_count": 13,
     "metadata": {},
     "output_type": "execute_result"
    }
   ],
   "source": [
    "x='welcome to pythonworkshop'\n",
    "re.findall('\\s',x)"
   ]
  },
  {
   "cell_type": "code",
   "execution_count": 15,
   "metadata": {},
   "outputs": [
    {
     "data": {
      "text/plain": [
       "['w',\n",
       " 'e',\n",
       " 'l',\n",
       " 'c',\n",
       " 'o',\n",
       " 'm',\n",
       " 'e',\n",
       " 't',\n",
       " 'o',\n",
       " 'p',\n",
       " 'y',\n",
       " 't',\n",
       " 'h',\n",
       " 'o',\n",
       " 'n',\n",
       " 'w',\n",
       " 'o',\n",
       " 'r',\n",
       " 'k',\n",
       " 's',\n",
       " 'h',\n",
       " 'o',\n",
       " 'p']"
      ]
     },
     "execution_count": 15,
     "metadata": {},
     "output_type": "execute_result"
    }
   ],
   "source": [
    "x='welcome to pythonworkshop'\n",
    "\n",
    "re.findall('\\S',x)"
   ]
  },
  {
   "cell_type": "code",
   "execution_count": 16,
   "metadata": {},
   "outputs": [
    {
     "data": {
      "text/plain": [
       "<re.Match object; span=(8, 9), match='@'>"
      ]
     },
     "execution_count": 16,
     "metadata": {},
     "output_type": "execute_result"
    }
   ],
   "source": [
    "re.search('\\W','sai123_p@gmail.com')"
   ]
  },
  {
   "cell_type": "code",
   "execution_count": 17,
   "metadata": {},
   "outputs": [
    {
     "data": {
      "text/plain": [
       "['@', '.']"
      ]
     },
     "execution_count": 17,
     "metadata": {},
     "output_type": "execute_result"
    }
   ],
   "source": [
    "re.findall('\\W','@gsai123_pmail.com')"
   ]
  },
  {
   "cell_type": "code",
   "execution_count": 18,
   "metadata": {},
   "outputs": [
    {
     "data": {
      "text/plain": [
       "['s',\n",
       " 'a',\n",
       " 'i',\n",
       " '1',\n",
       " '2',\n",
       " '3',\n",
       " '_',\n",
       " 'p',\n",
       " 'g',\n",
       " 'm',\n",
       " 'a',\n",
       " 'i',\n",
       " 'l',\n",
       " 'c',\n",
       " 'o',\n",
       " 'm']"
      ]
     },
     "execution_count": 18,
     "metadata": {},
     "output_type": "execute_result"
    }
   ],
   "source": [
    "re.findall('\\w','sai123_p@gmail.com')"
   ]
  },
  {
   "cell_type": "code",
   "execution_count": 19,
   "metadata": {},
   "outputs": [
    {
     "data": {
      "text/plain": [
       "<re.Match object; span=(0, 10), match='7036181429'>"
      ]
     },
     "execution_count": 19,
     "metadata": {},
     "output_type": "execute_result"
    }
   ],
   "source": [
    "### MObile pattern\n",
    "re.search('^[6-9][0-9]{9}|[0][6-9][0-9]{9}|[+][9][1][6-9][0-9]{9}$','7036181429')"
   ]
  },
  {
   "cell_type": "code",
   "execution_count": 20,
   "metadata": {},
   "outputs": [
    {
     "data": {
      "text/plain": [
       "<re.Match object; span=(0, 10), match='7036181429'>"
      ]
     },
     "execution_count": 20,
     "metadata": {},
     "output_type": "execute_result"
    }
   ],
   "source": [
    "\n",
    "### MObile pattern\n",
    "re.search('^[6-9][0-9]{9}$|^[0][6-9][0-9]{9}$|^[+][9][1][6-9][0-9]{9}$','7036181429')"
   ]
  },
  {
   "cell_type": "code",
   "execution_count": 23,
   "metadata": {},
   "outputs": [
    {
     "data": {
      "text/plain": [
       "<re.Match object; span=(0, 21), match='Sairam09._p@apssdc.in'>"
      ]
     },
     "execution_count": 23,
     "metadata": {},
     "output_type": "execute_result"
    }
   ],
   "source": [
    "# mail pattern\n",
    "re.search('^[0-9a-zA-Z]{1,13}[._a-z0-9A-Z]{3}[@][a-z]{5,10}[.][a-z]{2,5}$','Sairam09._p@apssdc.in')"
   ]
  },
  {
   "cell_type": "code",
   "execution_count": null,
   "metadata": {},
   "outputs": [],
   "source": []
  }
 ],
 "metadata": {
  "kernelspec": {
   "display_name": "Python 3",
   "language": "python",
   "name": "python3"
  },
  "language_info": {
   "codemirror_mode": {
    "name": "ipython",
    "version": 3
   },
   "file_extension": ".py",
   "mimetype": "text/x-python",
   "name": "python",
   "nbconvert_exporter": "python",
   "pygments_lexer": "ipython3",
   "version": "3.8.5"
  }
 },
 "nbformat": 4,
 "nbformat_minor": 4
}
